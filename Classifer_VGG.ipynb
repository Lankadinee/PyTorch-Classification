{
 "cells": [
  {
   "cell_type": "code",
   "execution_count": 52,
   "id": "2cfbea62",
   "metadata": {},
   "outputs": [],
   "source": [
    "import torch\n",
    "import torchvision\n",
    "import torchvision.transforms as transforms"
   ]
  },
  {
   "cell_type": "code",
   "execution_count": 53,
   "id": "43ea5162",
   "metadata": {},
   "outputs": [
    {
     "name": "stdout",
     "output_type": "stream",
     "text": [
      "Files already downloaded and verified\n",
      "Files already downloaded and verified\n"
     ]
    }
   ],
   "source": [
    "transform = transforms.Compose(\n",
    "    [transforms.ToTensor(),\n",
    "     #transforms.Resize(32),\n",
    "     transforms.Normalize((0.5, 0.5, 0.5), (0.5, 0.5, 0.5))])\n",
    "\n",
    "batch_size = 4\n",
    "\n",
    "trainset = torchvision.datasets.CIFAR10(root='./data', train=True,\n",
    "                                        download=True, transform=transform)\n",
    "trainloader = torch.utils.data.DataLoader(trainset, batch_size=batch_size,\n",
    "                                          shuffle=True, num_workers=2)\n",
    "\n",
    "testset = torchvision.datasets.CIFAR10(root='./data', train=False,\n",
    "                                       download=True, transform=transform)\n",
    "testloader = torch.utils.data.DataLoader(testset, batch_size=batch_size,\n",
    "                                         shuffle=False, num_workers=2)\n",
    "\n",
    "classes = ('plane', 'car', 'bird', 'cat',\n",
    "           'deer', 'dog', 'frog', 'horse', 'ship', 'truck')"
   ]
  },
  {
   "cell_type": "code",
   "execution_count": 54,
   "id": "f86e1ec3",
   "metadata": {},
   "outputs": [
    {
     "data": {
      "image/png": "[encoded data removed]",
      "text/plain": [
       "<Figure size 640x480 with 1 Axes>"
      ]
     },
     "metadata": {},
     "output_type": "display_data"
    },
    {
     "name": "stdout",
     "output_type": "stream",
     "text": [
      "ship  horse truck horse\n"
     ]
    }
   ],
   "source": [
    "import matplotlib.pyplot as plt\n",
    "import numpy as np\n",
    "\n",
    "# functions to show an image\n",
    "\n",
    "\n",
    "def imshow(img):\n",
    "    img = img / 2 + 0.5     # unnormalize\n",
    "    npimg = img.numpy()\n",
    "    plt.imshow(np.transpose(npimg, (1, 2, 0)))\n",
    "    plt.show()\n",
    "\n",
    "\n",
    "# get some random training images\n",
    "dataiter = iter(trainloader)\n",
    "images, labels = next(dataiter)\n",
    "\n",
    "# show images\n",
    "imshow(torchvision.utils.make_grid(images))\n",
    "# print labels\n",
    "print(' '.join(f'{classes[labels[j]]:5s}' for j in range(batch_size)))"
   ]
  },
  {
   "cell_type": "code",
   "execution_count": 55,
   "id": "4a3d9ba3",
   "metadata": {},
   "outputs": [],
   "source": [
    "import torch.nn as nn\n",
    "import torch.nn.functional as F\n",
    "\n",
    "\n",
    "class Net(nn.Module):\n",
    "    def __init__(self):\n",
    "        super().__init__()\n",
    "        self.conv1 = nn.Conv2d(3, 64, 3, padding = 1)\n",
    "        self.pool = nn.MaxPool2d(2, 2)\n",
    "        self.conv2 = nn.Conv2d(64, 128, 3, padding = 1)\n",
    "        self.conv3 = nn.Conv2d(128, 256, 3, padding = 1)\n",
    "        self.conv4 = nn.Conv2d(256, 256, 3, padding = 1)\n",
    "        self.conv5 = nn.Conv2d(256, 512, 3, padding = 1)\n",
    "        self.conv6 = nn.Conv2d(512, 512, 3, padding = 1)\n",
    "        self.fc1 = nn.Linear(512 * 1 * 1, 512)\n",
    "        self.fc2 = nn.Linear(512, 128)\n",
    "        self.fc3 = nn.Linear(128, 10)\n",
    "        self.softmax = nn.Softmax(dim = 1)\n",
    "\n",
    "    def forward(self, x):\n",
    "        x = self.pool(F.relu(self.conv1(x))) # 112*112*64\n",
    "        x = self.pool(F.relu(self.conv2(x))) # 56*56*128\n",
    "        x = F.relu(self.conv3(x)) # 56*56*256\n",
    "        x = self.pool(F.relu(self.conv4(x))) # 28*28*256\n",
    "        x = F.relu(self.conv5(x)) # 28*28*512\n",
    "        x = self.pool(F.relu(self.conv6(x))) # 14*14*512\n",
    "        x = F.relu(self.conv6(x)) # 14*14*512\n",
    "        x = self.pool(F.relu(self.conv6(x))) # 7*7*512\n",
    "        x = torch.flatten(x, 1) # flatten all dimensions except batch\n",
    "        x = F.relu(self.fc1(x))\n",
    "        x = F.relu(self.fc2(x))\n",
    "        x = F.relu(self.fc3(x))\n",
    "        x = self.softmax(x)\n",
    "        return x\n",
    "\n",
    "\n",
    "net = Net()"
   ]
  },
  {
   "cell_type": "code",
   "execution_count": 56,
   "id": "85cab53b",
   "metadata": {},
   "outputs": [
    {
     "name": "stdout",
     "output_type": "stream",
     "text": [
      "----------------------------------------------------------------\n",
      "        Layer (type)               Output Shape         Param #\n",
      "================================================================\n",
      "            Conv2d-1           [-1, 64, 32, 32]           1,792\n",
      "         MaxPool2d-2           [-1, 64, 16, 16]               0\n",
      "            Conv2d-3          [-1, 128, 16, 16]          73,856\n",
      "         MaxPool2d-4            [-1, 128, 8, 8]               0\n",
      "            Conv2d-5            [-1, 256, 8, 8]         295,168\n",
      "            Conv2d-6            [-1, 256, 8, 8]         590,080\n",
      "         MaxPool2d-7            [-1, 256, 4, 4]               0\n",
      "            Conv2d-8            [-1, 512, 4, 4]       1,180,160\n",
      "            Conv2d-9            [-1, 512, 4, 4]       2,359,808\n",
      "        MaxPool2d-10            [-1, 512, 2, 2]               0\n",
      "           Conv2d-11            [-1, 512, 2, 2]       2,359,808\n",
      "           Conv2d-12            [-1, 512, 2, 2]       2,359,808\n",
      "        MaxPool2d-13            [-1, 512, 1, 1]               0\n",
      "           Linear-14                  [-1, 512]         262,656\n",
      "           Linear-15                  [-1, 128]          65,664\n",
      "           Linear-16                   [-1, 10]           1,290\n",
      "          Softmax-17                   [-1, 10]               0\n",
      "================================================================\n",
      "Total params: 9,550,090\n",
      "Trainable params: 9,550,090\n",
      "Non-trainable params: 0\n",
      "----------------------------------------------------------------\n",
      "Input size (MB): 0.01\n",
      "Forward/backward pass size (MB): 1.40\n",
      "Params size (MB): 36.43\n",
      "Estimated Total Size (MB): 37.84\n",
      "----------------------------------------------------------------\n"
     ]
    }
   ],
   "source": [
    "from torchvision import models\n",
    "from torchsummary import summary\n",
    "\n",
    "vgg = Net()\n",
    "summary(vgg, (3, 32, 32))"
   ]
  },
  {
   "cell_type": "code",
   "execution_count": 57,
   "id": "93756a71",
   "metadata": {},
   "outputs": [],
   "source": [
    "import torch.optim as optim\n",
    "\n",
    "criterion = nn.CrossEntropyLoss()\n",
    "optimizer = optim.SGD(net.parameters(), lr=0.001, momentum=0.9)"
   ]
  },
  {
   "cell_type": "code",
   "execution_count": null,
   "id": "0552f483",
   "metadata": {},
   "outputs": [
    {
     "name": "stdout",
     "output_type": "stream",
     "text": [
      "[1,    50] loss: 0.058\n",
      "[1,   100] loss: 0.058\n",
      "[1,   150] loss: 0.058\n",
      "[1,   200] loss: 0.058\n",
      "[1,   250] loss: 0.058\n",
      "[1,   300] loss: 0.058\n",
      "[1,   350] loss: 0.058\n",
      "[1,   400] loss: 0.058\n",
      "[1,   450] loss: 0.058\n",
      "[1,   500] loss: 0.058\n",
      "[1,   550] loss: 0.058\n",
      "[1,   600] loss: 0.058\n",
      "[1,   650] loss: 0.058\n",
      "[1,   700] loss: 0.058\n",
      "[1,   750] loss: 0.058\n",
      "[1,   800] loss: 0.058\n",
      "[1,   850] loss: 0.058\n",
      "[1,   900] loss: 0.058\n",
      "[1,   950] loss: 0.058\n",
      "[1,  1000] loss: 0.058\n",
      "[1,  1050] loss: 0.058\n",
      "[1,  1100] loss: 0.058\n",
      "[1,  1150] loss: 0.058\n",
      "[1,  1200] loss: 0.058\n",
      "[1,  1250] loss: 0.058\n",
      "[1,  1300] loss: 0.058\n",
      "[1,  1350] loss: 0.058\n",
      "[1,  1400] loss: 0.058\n",
      "[1,  1450] loss: 0.058\n",
      "[1,  1500] loss: 0.058\n",
      "[1,  1550] loss: 0.058\n",
      "[1,  1600] loss: 0.058\n",
      "[1,  1650] loss: 0.058\n",
      "[1,  1700] loss: 0.058\n",
      "[1,  1750] loss: 0.058\n",
      "[1,  1800] loss: 0.058\n",
      "[1,  1850] loss: 0.058\n"
     ]
    }
   ],
   "source": [
    "for epoch in range(1):  # loop over the dataset multiple times\n",
    "\n",
    "    running_loss = 0.0\n",
    "    for i, data in enumerate(trainloader, 0):\n",
    "        # get the inputs; data is a list of [inputs, labels]\n",
    "        inputs, labels = data\n",
    "\n",
    "        # zero the parameter gradients\n",
    "        optimizer.zero_grad()\n",
    "\n",
    "        # forward + backward + optimize\n",
    "        outputs = net(inputs)\n",
    "        loss = criterion(outputs, labels)\n",
    "        loss.backward()\n",
    "        optimizer.step()\n",
    "\n",
    "        # print statistics\n",
    "        running_loss += loss.item()\n",
    "#         print(f\"Iteration - {i}\")\n",
    "        if i % 50 == 49:    # print every 2000 mini-batches\n",
    "            print(f'[{epoch + 1}, {i + 1:5d}] loss: {running_loss / 2000:.3f}')\n",
    "            running_loss = 0.0\n",
    "\n",
    "print('Finished Training')"
   ]
  },
  {
   "cell_type": "code",
   "execution_count": null,
   "id": "be607666",
   "metadata": {},
   "outputs": [],
   "source": [
    "PATH = './cifar_net.pth'\n",
    "torch.save(net.state_dict(), PATH)"
   ]
  },
  {
   "cell_type": "code",
   "execution_count": null,
   "id": "2a9cd4f8",
   "metadata": {},
   "outputs": [],
   "source": [
    "dataiter = iter(testloader)\n",
    "images, labels = next(dataiter)\n",
    "\n",
    "# print images\n",
    "imshow(torchvision.utils.make_grid(images))\n",
    "print('GroundTruth: ', ' '.join(f'{classes[labels[j]]:5s}' for j in range(4)))"
   ]
  },
  {
   "cell_type": "code",
   "execution_count": null,
   "id": "9f87f1b6",
   "metadata": {},
   "outputs": [],
   "source": [
    "net = Net()\n",
    "net.load_state_dict(torch.load(PATH))"
   ]
  },
  {
   "cell_type": "code",
   "execution_count": null,
   "id": "d82bdd70",
   "metadata": {},
   "outputs": [],
   "source": [
    "outputs = net(images)"
   ]
  },
  {
   "cell_type": "code",
   "execution_count": null,
   "id": "9b4d6c2e",
   "metadata": {},
   "outputs": [],
   "source": [
    "outputs"
   ]
  },
  {
   "cell_type": "code",
   "execution_count": null,
   "id": "9c3af501",
   "metadata": {},
   "outputs": [],
   "source": [
    "_, predicted = torch.max(outputs, 1)\n",
    "\n",
    "print('Predicted: ', ' '.join(f'{classes[predicted[j]]:5s}'\n",
    "                              for j in range(4)))"
   ]
  },
  {
   "cell_type": "code",
   "execution_count": null,
   "id": "c97efcd8",
   "metadata": {},
   "outputs": [],
   "source": [
    "correct = 0\n",
    "total = 0\n",
    "# since we're not training, we don't need to calculate the gradients for our outputs\n",
    "with torch.no_grad():\n",
    "    for data in testloader:\n",
    "        images, labels = data\n",
    "        # calculate outputs by running images through the network\n",
    "        outputs = net(images)\n",
    "        # the class with the highest energy is what we choose as prediction\n",
    "        _, predicted = torch.max(outputs.data, 1)\n",
    "        total += labels.size(0)\n",
    "        correct += (predicted == labels).sum().item()\n",
    "\n",
    "print(f'Accuracy of the network on the 10000 test images: {100 * correct // total} %')"
   ]
  },
  {
   "cell_type": "code",
   "execution_count": null,
   "id": "1475b3e2",
   "metadata": {},
   "outputs": [],
   "source": []
  }
 ],
 "metadata": {
  "kernelspec": {
   "display_name": "Python 3 (ipykernel)",
   "language": "python",
   "name": "python3"
  },
  "language_info": {
   "codemirror_mode": {
    "name": "ipython",
    "version": 3
   },
   "file_extension": ".py",
   "mimetype": "text/x-python",
   "name": "python",
   "nbconvert_exporter": "python",
   "pygments_lexer": "ipython3",
   "version": "3.9.15"
  }
 },
 "nbformat": 4,
 "nbformat_minor": 5
}
